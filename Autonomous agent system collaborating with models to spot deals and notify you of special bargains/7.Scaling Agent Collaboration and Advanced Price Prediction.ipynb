{
 "cells": [
  {
   "cell_type": "markdown",
   "id": "0df0d850-49eb-4a0b-a27a-146969db710d",
   "metadata": {},
   "source": [
    "# The Price is Right\n",
    "\n",
    "  ScanningAgent that looks for promising deals by subscribing to RSS feeds."
   ]
  },
  {
   "cell_type": "code",
   "execution_count": 1,
   "id": "d3763a79-8a5a-4300-8de4-93e85475af10",
   "metadata": {},
   "outputs": [],
   "source": [
    "# imports\n",
    "\n",
    "import os\n",
    "import json\n",
    "from dotenv import load_dotenv\n",
    "from openai import OpenAI\n",
    "from agents.deals import ScrapedDeal, DealSelection"
   ]
  },
  {
   "cell_type": "code",
   "execution_count": 2,
   "id": "c6469e32-16c3-4443-9475-ade710ef6933",
   "metadata": {},
   "outputs": [],
   "source": [
    "# Initialize and constants\n",
    "\n",
    "load_dotenv(override=True)\n",
    "os.environ['OPENAI_API_KEY'] = os.getenv('OPENAI_API_KEY', 'your-key-if-not-using-env')\n",
    "MODEL = 'gpt-4o-mini'\n",
    "openai = OpenAI()"
   ]
  },
  {
   "cell_type": "code",
   "execution_count": 3,
   "id": "afece9db-8cd4-46be-ac57-0b472e84da7d",
   "metadata": {},
   "outputs": [
    {
     "name": "stderr",
     "output_type": "stream",
     "text": [
      " 20%|████████████████▊                                                                   | 1/5 [00:51<03:25, 51.37s/it]C:\\Users\\benja\\projects\\llm_engineering\\week8\\agents\\deals.py:27: MarkupResemblesLocatorWarning: The input looks more like a filename than markup. You may want to open this file and pass the filehandle into Beautiful Soup.\n",
      "  description = BeautifulSoup(description, 'html.parser').get_text()\n",
      "100%|████████████████████████████████████████████████████████████████████████████████████| 5/5 [03:59<00:00, 47.99s/it]\n"
     ]
    }
   ],
   "source": [
    "deals = ScrapedDeal.fetch(show_progress=True)"
   ]
  },
  {
   "cell_type": "code",
   "execution_count": 4,
   "id": "8cd15c4d-eb44-4601-bf0c-f945c1d8e3ec",
   "metadata": {},
   "outputs": [
    {
     "data": {
      "text/plain": [
       "47"
      ]
     },
     "execution_count": 4,
     "metadata": {},
     "output_type": "execute_result"
    }
   ],
   "source": [
    "len(deals)"
   ]
  },
  {
   "cell_type": "code",
   "execution_count": 5,
   "id": "4259f30a-6455-49ed-8863-2f9ddd4776cb",
   "metadata": {},
   "outputs": [
    {
     "data": {
      "text/plain": [
       "'Title: Scotts Turf Builder WinterGuard Fall Lawn Food 10-lb. Bag for $28 + free shipping w/ $35\\nDetails: This best seller is $30 off and the best deal we could find. Opt for store pickup (where available) to dodge the $6.99 shipping fee or orders of $35 or more ships for free. Buy Now at Walmart\\nFeatures: covers up to 4,000-sq. ft. Model: 22342\\nURL: https://www.dealnews.com/products/Scotts/Scotts-Turf-Builder-Winter-Guard-Fall-Lawn-Food-10-lb-Bag/493656.html?iref=rss-c196'"
      ]
     },
     "execution_count": 5,
     "metadata": {},
     "output_type": "execute_result"
    }
   ],
   "source": [
    "deals[44].describe()"
   ]
  },
  {
   "cell_type": "code",
   "execution_count": 6,
   "id": "8100e5ac-38f5-40c1-a712-08ae12c85038",
   "metadata": {},
   "outputs": [],
   "source": [
    "system_prompt = \"\"\"You identify and summarize the 5 most detailed deals from a list, by selecting deals that have the most detailed, high quality description and the most clear price.\n",
    "Respond strictly in JSON with no explanation, using this format. You should provide the price as a number derived from the description. If the price of a deal isn't clear, do not include that deal in your response.\n",
    "Most important is that you respond with the 5 deals that have the most detailed product description with price. It's not important to mention the terms of the deal; most important is a thorough description of the product.\n",
    "Be careful with products that are described as \"$XXX off\" or \"reduced by $XXX\" - this isn't the actual price of the product. Only respond with products when you are highly confident about the price. \n",
    "\n",
    "{\"deals\": [\n",
    "    {\n",
    "        \"product_description\": \"Your clearly expressed summary of the product in 4-5 sentences. Details of the item are much more important than why it's a good deal. Avoid mentioning discounts and coupons; focus on the item itself. There should be a paragpraph of text for each item you choose.\",\n",
    "        \"price\": 99.99,\n",
    "        \"url\": \"the url as provided\"\n",
    "    },\n",
    "    ...\n",
    "]}\"\"\""
   ]
  },
  {
   "cell_type": "code",
   "execution_count": 7,
   "id": "f4bca170-af71-40c9-9597-1d72980c74d8",
   "metadata": {},
   "outputs": [],
   "source": [
    "user_prompt = \"\"\"Respond with the most promising 5 deals from this list, selecting those which have the most detailed, high quality product description and a clear price.\n",
    "Respond strictly in JSON, and only JSON. You should rephrase the description to be a summary of the product itself, not the terms of the deal.\n",
    "Remember to respond with a paragraph of text in the product_description field for each of the 5 items that you select.\n",
    "Be careful with products that are described as \"$XXX off\" or \"reduced by $XXX\" - this isn't the actual price of the product. Only respond with products when you are highly confident about the price. \n",
    "\n",
    "Deals:\n",
    "\n",
    "\"\"\"\n",
    "user_prompt += '\\n\\n'.join([deal.describe() for deal in deals])"
   ]
  },
  {
   "cell_type": "code",
   "execution_count": 8,
   "id": "020947a6-561b-417b-98a0-a085e31d2ce3",
   "metadata": {},
   "outputs": [
    {
     "name": "stdout",
     "output_type": "stream",
     "text": [
      "Respond with the most promising 5 deals from this list, selecting those which have the most detailed, high quality product description and a clear price.\n",
      "Respond strictly in JSON, and only JSON. You should rephrase the description to be a summary of the product itself, not the terms of the deal.\n",
      "Remember to respond with a paragraph of text in the product_description field for each of the 5 items that you select.\n",
      "Be careful with products that are described as \"$XXX off\" or \"reduced by $XXX\" - this isn't the actual price of the product. Only respond with products when you are highly confident about the price. \n",
      "\n",
      "Deals:\n",
      "\n",
      "Title: Apple iPhone 17 Pro & Pro Max (2025): Preorders starting September 12 + free shipping\n",
      "Details: Get ready to order Apple's newest flagship iPhones on Friday, September 12. Both the 6.3\" Pro and 6.9\" Pro Max feature a brand new heat-forged aluminum unibody frame, 8x telephoto camera, faster charging, and improved battery life. Plus, you can trade in your old mobile for up to $1,100 in credit towards these new models. (The amount of trade-in credit varies by model, condition, and carrier.)Preorders open September 12 at 9am ET; they're expected to release on September 19. Buy Now at Apple\n",
      "Features: forged aluminum unibody design Pro Camera System with 48MP Fusion Camera and 8x Telephoto 4K120 & Dolby Vision video A19 Pro chipset Ceramic Shield 2 front & back vapor chamber cooling\n",
      "URL: https://www.dealnews.com/products/Apple/Apple-iPhone-17-Pro-2025/493678.html?iref=rss-c142\n",
      "\n",
      "Title: Apple iPhone Air (2025): Preorders start September 12 + free shipping\n",
      "Details: The newest flavor of Apple iPhone is here (almost) - preorders open on September 12 for the thinnest iPhone yet. Just 5.6mm thin, it packs an A19 Pro chipset, 6.5\" display, titanium frame, and all-day battery life. Plus, get up to $830 in credit when you trade in your old phone - though the amount will vary by model, condition, and carrier.Preorders begin on September 12 at 9am ET; it's expected\n"
     ]
    }
   ],
   "source": [
    "print(user_prompt[:2000])"
   ]
  },
  {
   "cell_type": "code",
   "execution_count": 9,
   "id": "7de46f74-868c-4127-8a68-cf2da7d600bb",
   "metadata": {},
   "outputs": [],
   "source": [
    "def get_recommendations():\n",
    "    completion = openai.beta.chat.completions.parse(\n",
    "        model=\"gpt-4o-mini\",\n",
    "        messages=[\n",
    "            {\"role\": \"system\", \"content\": system_prompt},\n",
    "            {\"role\": \"user\", \"content\": user_prompt}\n",
    "      ],\n",
    "        response_format=DealSelection\n",
    "    )\n",
    "    result = completion.choices[0].message.parsed\n",
    "    return result"
   ]
  },
  {
   "cell_type": "code",
   "execution_count": 10,
   "id": "4c06270d-8c17-4d5a-9cfe-b6cefe788d5e",
   "metadata": {},
   "outputs": [],
   "source": [
    "result = get_recommendations()"
   ]
  },
  {
   "cell_type": "code",
   "execution_count": 11,
   "id": "84e62845-3338-441a-8161-c70097af4773",
   "metadata": {},
   "outputs": [
    {
     "data": {
      "text/plain": [
       "5"
      ]
     },
     "execution_count": 11,
     "metadata": {},
     "output_type": "execute_result"
    }
   ],
   "source": [
    "len(result.deals)"
   ]
  },
  {
   "cell_type": "code",
   "execution_count": 12,
   "id": "e5554a0a-ae40-4684-ad3e-faa3d22e030c",
   "metadata": {},
   "outputs": [
    {
     "data": {
      "text/plain": [
       "Deal(product_description=\"Introducing the Apple iPhone Air, the thinnest iPhone ever at just 5.6mm. It showcases a beautiful 6.5-inch Super Retina XDR display, powered by an A19 Pro chipset that guarantees performance and efficiency. The phone is crafted with a durable titanium frame, providing both elegance and sturdiness. The 48MP Fusion Camera system allows for high-quality imaging, while the device supports the latest wireless technologies, ensuring you'll stay connected effortlessly and enjoy all-day battery life.\", price=799.0, url='https://www.dealnews.com/products/Apple/Apple-iPhone-Air-2025/493679.html?iref=rss-c142')"
      ]
     },
     "execution_count": 12,
     "metadata": {},
     "output_type": "execute_result"
    }
   ],
   "source": [
    "result.deals[1]"
   ]
  },
  {
   "cell_type": "code",
   "execution_count": 13,
   "id": "8bdc57fb-7497-47af-a643-6ba5a21cc17e",
   "metadata": {},
   "outputs": [],
   "source": [
    "from agents.scanner_agent import ScannerAgent"
   ]
  },
  {
   "cell_type": "code",
   "execution_count": 14,
   "id": "132278bc-217a-43a6-b6c4-724140c6a225",
   "metadata": {},
   "outputs": [],
   "source": [
    "agent = ScannerAgent()\n",
    "result = agent.scan()"
   ]
  },
  {
   "cell_type": "code",
   "execution_count": 15,
   "id": "2e1d013a-c930-4dad-901b-41433379e14b",
   "metadata": {},
   "outputs": [
    {
     "data": {
      "text/plain": [
       "DealSelection(deals=[Deal(product_description='The Apple iPhone 17 Pro and Pro Max are the latest in Apple\\'s flagship line, featuring a sleek 6.3\" and 6.9\" Pro display, respectively. Constructed with a cutting-edge heat-forged aluminum unibody frame, these models boast an impressive Pro Camera System that includes a 48MP Fusion Camera and an 8x telephoto lens. Equipped with the A19 Pro chipset, users can expect faster charging and improved battery life. Ideal for photography enthusiasts and tech aficionados alike, these devices are set to redefine mobile technology.', price=999.0, url='https://www.dealnews.com/products/Apple/Apple-iPhone-17-Pro-2025/493678.html?iref=rss-c142'), Deal(product_description='The Apple Watch Ultra 3 is the ultimate choice for fitness enthusiasts and tech-savvy individuals. With the largest display ever on an Apple Watch, this model features satellite connectivity for emergency SOS, messaging, and locating services. Battery life extends to an impressive 42 hours, making it perfect for long adventures. Equipped with Apple Intelligence-powered workout features, this smartwatch combines functionality and stylish design to cater to all your health and connectivity needs.', price=799.0, url='https://www.dealnews.com/products/Apple/Apple-Watch-Ultra-3-2025/493672.html?iref=rss-c142'), Deal(product_description='The Eco-Worthy 48V 280AH LiFePO4 Vertical Standing Backup Battery 2-Pack is a robust energy solution for those seeking reliable backup power. Each battery features a 200A PACE BMS protection for safety and efficiency, with a depth of discharge greater than 80% after 10,000 cycles. These batteries come with detachable terminals for easy installation and flexible expansion, as well as a built-in display for monitoring vital statistics. This package is especially beneficial for off-grid systems, ensuring peace of mind during power outages.', price=3850.0, url='https://www.dealnews.com/Eco-Worthy-48-V-280-AH-Li-Fe-PO4-Vertical-Standing-Backup-Battery-2-Pack-for-3-850-free-shipping/21766387.html?iref=rss-c142'), Deal(product_description='The Samsung Bespoke 2.1-Cubic Foot Over-the-Range Stainless Steel Microwave stands out with its edge-to-edge glass controls and sensor cook technology. This stylish microwave not only adds modern charm to your kitchen but also offers practical functionality with various cooking presets and a large capacity. Ideal for busy households, it combines convenience with performance while ensuring seamless integration into your existing kitchen cabinetry.', price=329.0, url='https://www.dealnews.com/products/Samsung/Samsung-Bespoke-2-1-Cubic-Foot-Over-the-Range-Stainless-Steel-Microwave/493647.html?iref=rss-f1912'), Deal(product_description='The Apple AirPods Pro 3 provide a significant upgrade with enhanced Active Noise Cancellation and the introduction of Live Translation features. Designed to fit a variety of ear shapes, these AirPods come with five tip sizes to ensure a comfortable experience. With IP57 dust and water resistance, they are perfect for any active lifestyle. This model retains all the features you love, making them a must-have for those seeking premium audio quality and functionality.', price=249.0, url='https://www.dealnews.com/products/Apple/Apple-Air-Pods-Pro-3-2025/493669.html?iref=rss-c142')])"
      ]
     },
     "execution_count": 15,
     "metadata": {},
     "output_type": "execute_result"
    }
   ],
   "source": [
    "result"
   ]
  },
  {
   "cell_type": "code",
   "execution_count": null,
   "id": "5ee2e837-1f1d-42d4-8bc4-51cccc343006",
   "metadata": {},
   "outputs": [],
   "source": []
  }
 ],
 "metadata": {
  "kernelspec": {
   "display_name": "Python 3 (ipykernel)",
   "language": "python",
   "name": "python3"
  },
  "language_info": {
   "codemirror_mode": {
    "name": "ipython",
    "version": 3
   },
   "file_extension": ".py",
   "mimetype": "text/x-python",
   "name": "python",
   "nbconvert_exporter": "python",
   "pygments_lexer": "ipython3",
   "version": "3.11.9"
  }
 },
 "nbformat": 4,
 "nbformat_minor": 5
}
